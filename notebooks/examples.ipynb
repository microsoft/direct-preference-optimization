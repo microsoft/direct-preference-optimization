{
 "cells": [
  {
   "cell_type": "markdown",
   "metadata": {},
   "source": [
    "# Project Setup\n",
    "\n",
    "Make sure we set the environment variables for the following:\n",
    "\n",
    "* \"AZURE_SEARCH_ENDPOINT\": The Azure AI Search endpoint\n",
    "* \"AZURE_AI_SEARCH_API_KEY\": The Azure AI Search API key\n",
    "* \"AZURE_OPENAI_ENDPOINT\": The Azure OpenAI endpoint\n",
    "* \"AZURE_OPENAI_API_KEY\": The Azure OpenAI API key\n",
    "* \"STORAGE_ACCOUNT_NAME\": The storage account name\n",
    "* \"STORAGE_ACCOUNT_URL\": The storage account url\n"
   ]
  },
  {
   "cell_type": "markdown",
   "metadata": {},
   "source": [
    "## Create a multi-index chain\n",
    "\n",
    "Import the multi_index_chat_builder and the preconfigured options. Alternatively, you can configure the options to specify your indexes yourself."
   ]
  },
  {
   "cell_type": "code",
   "execution_count": 4,
   "metadata": {},
   "outputs": [
    {
     "ename": "ModuleNotFoundError",
     "evalue": "No module named 'libs'",
     "output_type": "error",
     "traceback": [
      "\u001b[0;31m---------------------------------------------------------------------------\u001b[0m",
      "\u001b[0;31mModuleNotFoundError\u001b[0m                       Traceback (most recent call last)",
      "Cell \u001b[0;32mIn[4], line 1\u001b[0m\n\u001b[0;32m----> 1\u001b[0m \u001b[38;5;28;01mfrom\u001b[39;00m \u001b[38;5;21;01mlibs\u001b[39;00m\u001b[38;5;21;01m.\u001b[39;00m\u001b[38;5;21;01mcore\u001b[39;00m\u001b[38;5;21;01m.\u001b[39;00m\u001b[38;5;21;01mapproaches\u001b[39;00m\u001b[38;5;21;01m.\u001b[39;00m\u001b[38;5;21;01mchat_conversation\u001b[39;00m \u001b[38;5;28;01mimport\u001b[39;00m build_chain\n\u001b[1;32m      2\u001b[0m \u001b[38;5;28;01mfrom\u001b[39;00m \u001b[38;5;21;01mbackend\u001b[39;00m\u001b[38;5;21;01m.\u001b[39;00m\u001b[38;5;21;01mlibs\u001b[39;00m\u001b[38;5;21;01m.\u001b[39;00m\u001b[38;5;21;01mcore\u001b[39;00m\u001b[38;5;21;01m.\u001b[39;00m\u001b[38;5;21;01mapproaches\u001b[39;00m\u001b[38;5;21;01m.\u001b[39;00m\u001b[38;5;21;01mmulti_index_chat_builder\u001b[39;00m \u001b[38;5;28;01mimport\u001b[39;00m MultiIndexChatBuilder\n\u001b[1;32m      3\u001b[0m \u001b[38;5;28;01mfrom\u001b[39;00m \u001b[38;5;21;01mbackend\u001b[39;00m\u001b[38;5;21;01m.\u001b[39;00m\u001b[38;5;21;01mconfig\u001b[39;00m \u001b[38;5;28;01mimport\u001b[39;00m (\n\u001b[1;32m      4\u001b[0m     multi_index_options,\n\u001b[1;32m      5\u001b[0m     chat_options\n\u001b[1;32m      6\u001b[0m )\n",
      "\u001b[0;31mModuleNotFoundError\u001b[0m: No module named 'libs'"
     ]
    }
   ],
   "source": [
    "from backend.libs.core.approaches.chat_conversation import build_chain\n",
    "from backend.libs.core.approaches.multi_index_chat_builder import MultiIndexChatBuilder\n",
    "from backend.config import (\n",
    "    multi_index_options,\n",
    "    chat_options\n",
    ")\n",
    "\n",
    "# build the chain.\n",
    "chain = build_chain(\n",
    "    builder=MultiIndexChatBuilder(\n",
    "        multi_index_options = multi_index_options\n",
    "    ),\n",
    "    chat_options=chat_options\n",
    ")"
   ]
  },
  {
   "cell_type": "markdown",
   "metadata": {},
   "source": [
    "## Execute the Chain\n",
    "\n",
    "To extract the llm response with citations, invoke the configured chain with a question relevant to one of your vector indexes."
   ]
  },
  {
   "cell_type": "code",
   "execution_count": null,
   "metadata": {},
   "outputs": [],
   "source": [
    "\n",
    "response = chain.invoke({\"question\": \"Tell me about tomatoes.\"})"
   ]
  }
 ],
 "metadata": {
  "kernelspec": {
   "display_name": "Python 3",
   "language": "python",
   "name": "python3"
  },
  "language_info": {
   "codemirror_mode": {
    "name": "ipython",
    "version": 3
   },
   "file_extension": ".py",
   "mimetype": "text/x-python",
   "name": "python",
   "nbconvert_exporter": "python",
   "pygments_lexer": "ipython3",
   "version": "3.10.13"
  },
  "polyglot_notebook": {
   "kernelInfo": {
    "defaultKernelName": "csharp",
    "items": [
     {
      "aliases": [],
      "name": "csharp"
     }
    ]
   }
  }
 },
 "nbformat": 4,
 "nbformat_minor": 2
}
